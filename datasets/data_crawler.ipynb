{
 "cells": [
  {
   "cell_type": "code",
   "execution_count": 1,
   "metadata": {},
   "outputs": [],
   "source": [
    "import numpy as np\n",
    "import tweepy\n",
    "import time\n",
    "import os\n",
    "import sys\n",
    "import pandas as pd\n",
    "import csv\n",
    "import requests"
   ]
  },
  {
   "cell_type": "code",
   "execution_count": 2,
   "metadata": {},
   "outputs": [],
   "source": [
    "# student account\n",
    "consumer_key = 'uOLcWq6subGIyYVpc2tLsZhT8'\n",
    "consumer_key_secret = '9fcReWPgPa0Rk2gRndOGuPlRtyfHysNjrttqzysxhFdeh8H6pA'\n",
    "access_token = '1323575376669515776-zwb8gu1WHH69yW0Je0pIxB20oRwkN0'\n",
    "access_token_secret = 'E98yzbiL8v3JehoWlfLYRchTqu7rjPXg31q2nzwpRdXZs'\n",
    "\n",
    "auth = tweepy.OAuthHandler(consumer_key, consumer_key_secret)\n",
    "auth.set_access_token(access_token, access_token_secret)\n",
    "api = tweepy.API(auth)"
   ]
  },
  {
   "cell_type": "code",
   "execution_count": 5,
   "metadata": {},
   "outputs": [],
   "source": [
    "# research account\n",
    "# consumer_key = 'Y2wLR0x8hp0dZt9wZuN9QZXa4'\n",
    "# consumer_key_secret = '9JjTy7VFdthVf0zilNiIuDF5M5NUckXC7a74W9oTu2i9EAdvxZ'\n",
    "# access_token = '1323575376669515776-8D35EbpdHORxqIHISGymFn1jGiOgvA'\n",
    "# access_token_secret = 'yuCHCv1ZPg4bOfQe73sg3jYWcOrRvK6TGPW3IH3WA4nEE'\n",
    "\n",
    "# auth = tweepy.OAuthHandler(consumer_key, consumer_key_secret)\n",
    "# auth.set_access_token(access_token, access_token_secret)\n",
    "# api = tweepy.API(auth,proxy=\"127.0.0.1:8083\")"
   ]
  },
  {
   "cell_type": "code",
   "execution_count": 33,
   "metadata": {},
   "outputs": [
    {
     "name": "stdout",
     "output_type": "stream",
     "text": [
      "en\n",
      "The status 1266978261701210112 is posted by geeksforgeeks\n",
      "This status says : \n",
      "\n",
      "'Avoid errors, not client calls\\n.\\nGeeks, Keep this going...\\n.\\n#sundayvibes #programming #programmingmemes #coding https://t.co/JkA5iStofZ'\n",
      "\n",
      "en\n",
      "The status 1266735261012111360 is posted by geeksforgeeks\n",
      "This status says : \n",
      "\n",
      "'With the access to our Job Portal, find the jobs that are best for you &amp; experience happy placement journey....\\n.\\nL… https://t.co/mzMMFVzjMv'\n",
      "\n",
      "en\n",
      "The status 1266342841648898049 is posted by geeksforgeeks\n",
      "This status says : \n",
      "\n",
      "'My reaction to this Lockdown : \\n\\n\"Der Lagi Lekin... Maine Ab Hai Jeena Seekh Liya\" \\n\\nWhat\\'s your reaction to it?\\n.… https://t.co/nH9L0eewSr'\n",
      "\n"
     ]
    }
   ],
   "source": [
    "# list of status IDs to be fetched  \n",
    "id_ = [1266978261701210112, 1266735261012111360, 1266342841648898049] \n",
    "  \n",
    "# fetching the statuses \n",
    "statuses = api.statuses_lookup(id_) \n",
    "  \n",
    "# printing the statuses \n",
    "for status in statuses: \n",
    "    print(status.lang)\n",
    "    print(\"The status \" + str(status.id) + \" is posted by \" + status.user.screen_name) \n",
    "    print(\"This status says : \\n\\n\" + repr(status.text), end = \"\\n\\n\") "
   ]
  },
  {
   "cell_type": "code",
   "execution_count": 3,
   "metadata": {},
   "outputs": [
    {
     "name": "stdout",
     "output_type": "stream",
     "text": [
      "Tweet fetchedRT @ADB_HQ: NEWS: ADB grants $300M loan to help Philippines shift to new basic education system http://t.co/3BVfLpWnBO #K12program\n"
     ]
    }
   ],
   "source": [
    "tweetFetched = api.get_status('544815534475595777')\n",
    "print(\"Tweet fetched\" + tweetFetched.text)\n",
    "text = tweetFetched.text\n"
   ]
  },
  {
   "cell_type": "code",
   "execution_count": 27,
   "metadata": {},
   "outputs": [],
   "source": [
    "# read all input files of tweet ids\n",
    "def read_files(folder):\n",
    "    files = []\n",
    "    for dir, _, filenames in os.walk(folder):\n",
    "        while len(filenames) > 0:\n",
    "            f = filenames.pop()\n",
    "            if f.endswith(\".csv\"):\n",
    "                files.append(os.path.join(dir, f))\n",
    "    files.sort()         \n",
    "    return files"
   ]
  },
  {
   "cell_type": "code",
   "execution_count": null,
   "metadata": {},
   "outputs": [],
   "source": [
    "files = read_files('/home/nguyen/tweet_interpret_sum/datasets/unlabeled_data/2015_nepal_earthquake_en/tweet_ids/')\n",
    "# files = read_files('/home/nguyen/tweet_interpret_sum/datasets/unlabeled_data/2014_pakistan_floods_en/tweet_ids/')\n",
    "# files = read_files('/home/nguyen/tweet_interpret_sum/datasets/unlabeled_data/2014_typhoon_hagupit_en/tweet_ids/')\n",
    "for file in files:\n",
    "    print(file)"
   ]
  },
  {
   "cell_type": "code",
   "execution_count": 32,
   "metadata": {},
   "outputs": [],
   "source": [
    "files_27 = [x for x in files if '50425104337_nepal_earthquake_20150426' in x]"
   ]
  },
  {
   "cell_type": "code",
   "execution_count": 33,
   "metadata": {},
   "outputs": [
    {
     "data": {
      "text/plain": [
       "['/home/nguyen/tweet_interpret_sum/datasets/unlabeled_data/2015_nepal_earthquake_en/tweet_ids/150425104337_nepal_earthquake_20150426_vol-10.json.csv',\n",
       " '/home/nguyen/tweet_interpret_sum/datasets/unlabeled_data/2015_nepal_earthquake_en/tweet_ids/150425104337_nepal_earthquake_20150426_vol-11.json.csv',\n",
       " '/home/nguyen/tweet_interpret_sum/datasets/unlabeled_data/2015_nepal_earthquake_en/tweet_ids/150425104337_nepal_earthquake_20150426_vol-12.json.csv',\n",
       " '/home/nguyen/tweet_interpret_sum/datasets/unlabeled_data/2015_nepal_earthquake_en/tweet_ids/150425104337_nepal_earthquake_20150426_vol-4.json.csv',\n",
       " '/home/nguyen/tweet_interpret_sum/datasets/unlabeled_data/2015_nepal_earthquake_en/tweet_ids/150425104337_nepal_earthquake_20150426_vol-5.json.csv',\n",
       " '/home/nguyen/tweet_interpret_sum/datasets/unlabeled_data/2015_nepal_earthquake_en/tweet_ids/150425104337_nepal_earthquake_20150426_vol-6.json.csv',\n",
       " '/home/nguyen/tweet_interpret_sum/datasets/unlabeled_data/2015_nepal_earthquake_en/tweet_ids/150425104337_nepal_earthquake_20150426_vol-7.json.csv',\n",
       " '/home/nguyen/tweet_interpret_sum/datasets/unlabeled_data/2015_nepal_earthquake_en/tweet_ids/150425104337_nepal_earthquake_20150426_vol-8.json.csv',\n",
       " '/home/nguyen/tweet_interpret_sum/datasets/unlabeled_data/2015_nepal_earthquake_en/tweet_ids/150425104337_nepal_earthquake_20150426_vol-9.json.csv']"
      ]
     },
     "execution_count": 33,
     "metadata": {},
     "output_type": "execute_result"
    }
   ],
   "source": [
    "files_26"
   ]
  },
  {
   "cell_type": "code",
   "execution_count": 7,
   "metadata": {},
   "outputs": [],
   "source": [
    "crawled_data = pd.read_csv('/home/nguyen/tweet_interpret_sum/datasets/unlabeled_data/2014_pakistan_floods_en/crawled_data/2014-09-pakistan_floods_20140907_vol-1.json.csv', delimiter='\\t')"
   ]
  },
  {
   "cell_type": "code",
   "execution_count": 8,
   "metadata": {},
   "outputs": [
    {
     "data": {
      "text/html": [
       "<div>\n",
       "<style scoped>\n",
       "    .dataframe tbody tr th:only-of-type {\n",
       "        vertical-align: middle;\n",
       "    }\n",
       "\n",
       "    .dataframe tbody tr th {\n",
       "        vertical-align: top;\n",
       "    }\n",
       "\n",
       "    .dataframe thead th {\n",
       "        text-align: right;\n",
       "    }\n",
       "</style>\n",
       "<table border=\"1\" class=\"dataframe\">\n",
       "  <thead>\n",
       "    <tr style=\"text-align: right;\">\n",
       "      <th></th>\n",
       "      <th>tweet_id</th>\n",
       "      <th>created_at</th>\n",
       "      <th>text</th>\n",
       "    </tr>\n",
       "  </thead>\n",
       "  <tbody>\n",
       "    <tr>\n",
       "      <th>0</th>\n",
       "      <td>508503520845107200</td>\n",
       "      <td>2014-09-07 06:34:21</td>\n",
       "      <td>'#3tking Flood Waters Submerge Swathes of Kash...</td>\n",
       "    </tr>\n",
       "    <tr>\n",
       "      <th>1</th>\n",
       "      <td>508503530420723712</td>\n",
       "      <td>2014-09-07 06:34:23</td>\n",
       "      <td>'FYI. There are worse floods in Orissa. Please...</td>\n",
       "    </tr>\n",
       "    <tr>\n",
       "      <th>2</th>\n",
       "      <td>508503547328331776</td>\n",
       "      <td>2014-09-07 06:34:27</td>\n",
       "      <td>'Flood Waters Submerge Swathes of Kashmir; 120...</td>\n",
       "    </tr>\n",
       "    <tr>\n",
       "      <th>3</th>\n",
       "      <td>508503548401688576</td>\n",
       "      <td>2014-09-07 06:34:28</td>\n",
       "      <td>'Flood situation grim in Kashmir army cantonme...</td>\n",
       "    </tr>\n",
       "    <tr>\n",
       "      <th>4</th>\n",
       "      <td>508503683945226240</td>\n",
       "      <td>2014-09-07 06:35:00</td>\n",
       "      <td>'#txwx Areal Flood Advisory for Lee [TX] till ...</td>\n",
       "    </tr>\n",
       "  </tbody>\n",
       "</table>\n",
       "</div>"
      ],
      "text/plain": [
       "             tweet_id           created_at  \\\n",
       "0  508503520845107200  2014-09-07 06:34:21   \n",
       "1  508503530420723712  2014-09-07 06:34:23   \n",
       "2  508503547328331776  2014-09-07 06:34:27   \n",
       "3  508503548401688576  2014-09-07 06:34:28   \n",
       "4  508503683945226240  2014-09-07 06:35:00   \n",
       "\n",
       "                                                text  \n",
       "0  '#3tking Flood Waters Submerge Swathes of Kash...  \n",
       "1  'FYI. There are worse floods in Orissa. Please...  \n",
       "2  'Flood Waters Submerge Swathes of Kashmir; 120...  \n",
       "3  'Flood situation grim in Kashmir army cantonme...  \n",
       "4  '#txwx Areal Flood Advisory for Lee [TX] till ...  "
      ]
     },
     "execution_count": 8,
     "metadata": {},
     "output_type": "execute_result"
    }
   ],
   "source": [
    "crawled_data.head()"
   ]
  },
  {
   "cell_type": "code",
   "execution_count": 9,
   "metadata": {},
   "outputs": [],
   "source": [
    "last_tweet=str(crawled_data.loc[crawled_data.shape[0]-1]['tweet_id'])"
   ]
  },
  {
   "cell_type": "code",
   "execution_count": 10,
   "metadata": {},
   "outputs": [],
   "source": [
    "data= pd.read_csv(files[1])"
   ]
  },
  {
   "cell_type": "code",
   "execution_count": 11,
   "metadata": {},
   "outputs": [],
   "source": [
    "data['tweet_id'] = data['tweet_id'].apply(lambda x: str(x[1:-1]))\n",
    "tweet_ids = list(data['tweet_id'])\n",
    "last_tweet_idx = tweet_ids.index(last_tweet)"
   ]
  },
  {
   "cell_type": "code",
   "execution_count": 12,
   "metadata": {},
   "outputs": [
    {
     "name": "stdout",
     "output_type": "stream",
     "text": [
      "138817\n",
      "35316\n"
     ]
    }
   ],
   "source": [
    "print(len(tweet_ids))\n",
    "print(last_tweet_idx)"
   ]
  },
  {
   "cell_type": "code",
   "execution_count": 13,
   "metadata": {},
   "outputs": [
    {
     "data": {
      "text/plain": [
       "'508610076861403136'"
      ]
     },
     "execution_count": 13,
     "metadata": {},
     "output_type": "execute_result"
    }
   ],
   "source": [
    "tweet_ids[last_tweet_idx+1]"
   ]
  },
  {
   "cell_type": "code",
   "execution_count": 14,
   "metadata": {},
   "outputs": [
    {
     "data": {
      "text/plain": [
       "'508610063683317760'"
      ]
     },
     "execution_count": 14,
     "metadata": {},
     "output_type": "execute_result"
    }
   ],
   "source": [
    "last_tweet"
   ]
  },
  {
   "cell_type": "code",
   "execution_count": 15,
   "metadata": {},
   "outputs": [],
   "source": [
    "tweetFetched = api.get_status(tweet_ids[last_tweet_idx])\n",
    "creation_time = tweetFetched.created_at\n",
    "text = tweetFetched.text\n",
    "tweet_id = tweetFetched.id_str\n",
    "lan = tweetFetched.lang"
   ]
  },
  {
   "cell_type": "code",
   "execution_count": 34,
   "metadata": {},
   "outputs": [
    {
     "data": {
      "text/plain": [
       "['/home/nguyen/tweet_interpret_sum/datasets/unlabeled_data/2015_nepal_earthquake_en/tweet_ids/150425104337_nepal_earthquake_20150426_vol-10.json.csv',\n",
       " '/home/nguyen/tweet_interpret_sum/datasets/unlabeled_data/2015_nepal_earthquake_en/tweet_ids/150425104337_nepal_earthquake_20150426_vol-11.json.csv',\n",
       " '/home/nguyen/tweet_interpret_sum/datasets/unlabeled_data/2015_nepal_earthquake_en/tweet_ids/150425104337_nepal_earthquake_20150426_vol-12.json.csv',\n",
       " '/home/nguyen/tweet_interpret_sum/datasets/unlabeled_data/2015_nepal_earthquake_en/tweet_ids/150425104337_nepal_earthquake_20150426_vol-4.json.csv',\n",
       " '/home/nguyen/tweet_interpret_sum/datasets/unlabeled_data/2015_nepal_earthquake_en/tweet_ids/150425104337_nepal_earthquake_20150426_vol-5.json.csv',\n",
       " '/home/nguyen/tweet_interpret_sum/datasets/unlabeled_data/2015_nepal_earthquake_en/tweet_ids/150425104337_nepal_earthquake_20150426_vol-6.json.csv',\n",
       " '/home/nguyen/tweet_interpret_sum/datasets/unlabeled_data/2015_nepal_earthquake_en/tweet_ids/150425104337_nepal_earthquake_20150426_vol-7.json.csv',\n",
       " '/home/nguyen/tweet_interpret_sum/datasets/unlabeled_data/2015_nepal_earthquake_en/tweet_ids/150425104337_nepal_earthquake_20150426_vol-8.json.csv',\n",
       " '/home/nguyen/tweet_interpret_sum/datasets/unlabeled_data/2015_nepal_earthquake_en/tweet_ids/150425104337_nepal_earthquake_20150426_vol-9.json.csv']"
      ]
     },
     "execution_count": 34,
     "metadata": {},
     "output_type": "execute_result"
    }
   ],
   "source": [
    "files_26"
   ]
  },
  {
   "cell_type": "code",
   "execution_count": 41,
   "metadata": {},
   "outputs": [],
   "source": [
    "def data_crawler(corpusFile, start_tweet='', error_file ='', winSize = 100):\n",
    "\n",
    "    \n",
    "\n",
    "\n",
    "    for file in corpusFile:\n",
    "        data = pd.read_csv(file)\n",
    "        output_file = file[0: file.index('tweet_ids')]+ \"crawled_data\" + file[file.rindex(\"/\"):]\n",
    "        print(output_file)\n",
    "        with open(output_file, \"w\") as f:\n",
    "            f.write(\"tweet_id\\tcreated_at\\ttext\\n\")\n",
    "\n",
    "        data['tweet_id'] = data['tweet_id'].apply(lambda x: str(x[1:-1]))\n",
    "        tweet_ids = list(data['tweet_id'])\n",
    "\n",
    "        start_idx = 0\n",
    "        end_idx = len(tweet_ids)\n",
    "\n",
    "        if start_tweet!=\"\":\n",
    "            start_idx = tweet_ids.index(start_tweet)+1\n",
    "        print(\"Start idx: {}, end idx: {}\".format(start_idx, end_idx))\n",
    "\n",
    "        sleepTime = 3\n",
    "        trainingDataSet = []\n",
    "        i = 0\n",
    "        num_crled_tweets = 0\n",
    "        idx = start_idx\n",
    "        while idx < end_idx:\n",
    "    #         print(\".................\")\n",
    "            ids_ = tweet_ids[idx: idx+winSize]\n",
    "            if idx+winSiz\n",
    "            idx+=winSize\n",
    "            i+=winSize\n",
    "\n",
    "            try:\n",
    "    #             tweetFetched = api.get_status(int(tweet_id))\n",
    "                statuses = api.statuses_lookup(ids_) \n",
    "                for tweet in statuses:\n",
    "                    if tweet.lang !=\"en\":\n",
    "                        continue\n",
    "    #                 print(\"{}\\t{}\\t{}\\n\".format(tweet.id, tweet.created_at, repr(tweet.text)))\n",
    "                    with open(output_file, \"a\") as f:\n",
    "                        f.write(\"{}\\t{}\\t{}\\n\".format(tweet.id, tweet.created_at, repr(tweet.text)))\n",
    "\n",
    "                time.sleep(sleepTime)\n",
    "                num_crled_tweets +=winSize\n",
    "                if i%500 == 0:\n",
    "                    print(\"#cwled:{}, {}\".format(num_crled_tweets, ids_[-1]))\n",
    "\n",
    "            except Exception as exp:\n",
    "                print(i, ids_, exp)\n",
    "    #             with open(error_file, \"w\") as f:\n",
    "    #                 f.write(\"{},{},{}\\n\".format(i, ids_, exp))\n",
    "\n",
    "        print(\"#######\")\n",
    "        print(\"Number of tweet ids: \", i)\n",
    "        print(\"Number of crawled tweets: \", num_crled_tweets)\n",
    "\n",
    "    \n"
   ]
  },
  {
   "cell_type": "code",
   "execution_count": 42,
   "metadata": {},
   "outputs": [
    {
     "name": "stdout",
     "output_type": "stream",
     "text": [
      "/home/nguyen/tweet_interpret_sum/datasets/unlabeled_data/2015_nepal_earthquake_en/crawled_data/150425104337_nepal_earthquake_20150426_vol-10.json.csv\n",
      "/home/nguyen/tweet_interpret_sum/datasets/unlabeled_data/2015_nepal_earthquake_en/crawled_data/150425104337_nepal_earthquake_20150426_vol-11.json.csv\n",
      "/home/nguyen/tweet_interpret_sum/datasets/unlabeled_data/2015_nepal_earthquake_en/crawled_data/150425104337_nepal_earthquake_20150426_vol-12.json.csv\n",
      "/home/nguyen/tweet_interpret_sum/datasets/unlabeled_data/2015_nepal_earthquake_en/crawled_data/150425104337_nepal_earthquake_20150426_vol-4.json.csv\n",
      "/home/nguyen/tweet_interpret_sum/datasets/unlabeled_data/2015_nepal_earthquake_en/crawled_data/150425104337_nepal_earthquake_20150426_vol-5.json.csv\n",
      "/home/nguyen/tweet_interpret_sum/datasets/unlabeled_data/2015_nepal_earthquake_en/crawled_data/150425104337_nepal_earthquake_20150426_vol-6.json.csv\n",
      "/home/nguyen/tweet_interpret_sum/datasets/unlabeled_data/2015_nepal_earthquake_en/crawled_data/150425104337_nepal_earthquake_20150426_vol-7.json.csv\n",
      "/home/nguyen/tweet_interpret_sum/datasets/unlabeled_data/2015_nepal_earthquake_en/crawled_data/150425104337_nepal_earthquake_20150426_vol-8.json.csv\n",
      "/home/nguyen/tweet_interpret_sum/datasets/unlabeled_data/2015_nepal_earthquake_en/crawled_data/150425104337_nepal_earthquake_20150426_vol-9.json.csv\n"
     ]
    }
   ],
   "source": [
    "data_crawler(files_26)"
   ]
  },
  {
   "cell_type": "code",
   "execution_count": 23,
   "metadata": {},
   "outputs": [
    {
     "name": "stdout",
     "output_type": "stream",
     "text": [
      ".................Crawling......................\n",
      "Start idx: 0, end idx: 75261\n",
      "#cwled:500, 540743675249049600\n",
      "#cwled:1000, 540745660661002241\n",
      "#cwled:1500, 540748130132561921\n",
      "#cwled:2000, 540750504221880320\n",
      "#cwled:2500, 540753184587644928\n",
      "#cwled:3000, 540756071254482944\n",
      "#cwled:3500, 540758199083618304\n",
      "#cwled:4000, 540760788210700288\n",
      "#cwled:4500, 540762926584328192\n",
      "#cwled:5000, 540765627250515968\n",
      "#cwled:5500, 540768129790771200\n",
      "#cwled:6000, 540771121444831233\n",
      "#cwled:6500, 540773516744749056\n",
      "#cwled:7000, 540776126516170753\n",
      "#cwled:7500, 540777869631160320\n",
      "#cwled:8000, 540778904802164737\n",
      "#cwled:8500, 540779937649524736\n",
      "#cwled:9000, 540780904604372992\n",
      "#cwled:9500, 540782090380275713\n",
      "#cwled:10000, 540783510131204096\n",
      "#cwled:10500, 540784764282621953\n",
      "#cwled:11000, 540786212907122688\n",
      "#cwled:11500, 540787803101999105\n",
      "#cwled:12000, 540789872978448384\n",
      "#cwled:12500, 540791937976918017\n",
      "#cwled:13000, 540794011229753344\n",
      "#cwled:13500, 540796115696615424\n",
      "#cwled:14000, 540798254511058944\n",
      "#cwled:14500, 540799759121141760\n",
      "#cwled:15000, 540801584410923008\n",
      "#cwled:15500, 540803407687069696\n",
      "#cwled:16000, 540805514159206400\n",
      "#cwled:16500, 540807241356414978\n",
      "#cwled:17000, 540809252676182016\n",
      "#cwled:17500, 540810968322678784\n",
      "#cwled:18000, 540812864840564736\n",
      "#cwled:18500, 540814545363935232\n",
      "#cwled:19000, 540816483681456128\n",
      "#cwled:19500, 540818207901515776\n",
      "#cwled:20000, 540819827028283393\n",
      "#cwled:20500, 540821555475775488\n",
      "#cwled:21000, 540823153291710464\n",
      "#cwled:21500, 540824749949997058\n",
      "#cwled:22000, 540826728038268928\n",
      "#cwled:22500, 540828994879238144\n",
      "#cwled:23000, 540831155671797760\n",
      "#cwled:23500, 540833026796953600\n",
      "#cwled:24000, 540834755306979329\n",
      "#cwled:24500, 540835983298936832\n",
      "#cwled:25000, 540837895276224513\n",
      "#cwled:25500, 540839638928478208\n",
      "#cwled:26000, 540841687073832960\n",
      "#cwled:26500, 540844251525808131\n",
      "#cwled:27000, 540846560276250625\n",
      "#cwled:27500, 540848668186656768\n",
      "#cwled:28000, 540850736435716097\n",
      "#cwled:28500, 540852869956517890\n",
      "#cwled:29000, 540854944815779840\n",
      "#cwled:29500, 540857338450567169\n",
      "#cwled:30000, 540859343671787520\n",
      "#cwled:30500, 540861273966407680\n",
      "#cwled:31000, 540863647707561984\n",
      "#cwled:31500, 540866340299345920\n",
      "#cwled:32000, 540869032014929920\n",
      "#cwled:32500, 540871280711323648\n",
      "#cwled:33000, 540873485367529472\n",
      "#cwled:33500, 540875345264517120\n",
      "#cwled:34000, 540877250904981506\n",
      "#cwled:34500, 540879776438050816\n",
      "#cwled:35000, 540882840825503744\n",
      "#cwled:35500, 540884677624885249\n",
      "#cwled:36000, 540886174001156096\n",
      "#cwled:36500, 540887395462156288\n",
      "#cwled:37000, 540888701497114624\n",
      "#cwled:37500, 540890106325127168\n",
      "#cwled:38000, 540892032336535552\n",
      "#cwled:38500, 540893811849719808\n",
      "#cwled:39000, 540896218268704769\n",
      "#cwled:39500, 540898202853978113\n",
      "#cwled:40000, 540900479161884672\n",
      "#cwled:40500, 540903095425712129\n",
      "#cwled:41000, 540905065284771840\n",
      "#cwled:41500, 540906980320493569\n",
      "#cwled:42000, 540909500853547008\n",
      "#cwled:42500, 540911960074641408\n",
      "#cwled:43000, 540915231082700800\n",
      "#cwled:43500, 540919174898262016\n",
      "#cwled:44000, 540923037089300480\n",
      "#cwled:44500, 540927531214708736\n",
      "#cwled:45000, 540932894815186945\n",
      "#cwled:45500, 540938382575435776\n",
      "#cwled:46000, 540942122883743744\n",
      "#cwled:46500, 540947730294525952\n",
      "#cwled:47000, 540954729329606658\n",
      "#cwled:47500, 540962409004150784\n",
      "#cwled:48000, 540968516178804736\n",
      "#cwled:48500, 540976774054543360\n",
      "#cwled:49000, 540981088961970176\n",
      "#cwled:49500, 540984908366098432\n",
      "#cwled:50000, 540988970495000576\n",
      "#cwled:50500, 540992855011897345\n",
      "#cwled:51000, 540997022057132033\n",
      "#cwled:51500, 541000317358194688\n",
      "#cwled:52000, 541003535744106496\n",
      "#cwled:52500, 541007109744107520\n",
      "#cwled:53000, 541008215358464000\n",
      "#cwled:53500, 541009544894115841\n",
      "#cwled:54000, 541013083150245888\n",
      "#cwled:54500, 541015750950289409\n",
      "#cwled:55000, 541018464857518081\n",
      "#cwled:55500, 541020849911136257\n",
      "#cwled:56000, 541023236897525760\n",
      "#cwled:56500, 541025687260655617\n",
      "#cwled:57000, 541028122338938881\n",
      "#cwled:57500, 541030501868257281\n",
      "#cwled:58000, 541032744264818688\n",
      "#cwled:58500, 541035409799938048\n",
      "#cwled:59000, 541037768462176256\n",
      "#cwled:59500, 541039955749777408\n",
      "#cwled:60000, 541041919338369025\n",
      "#cwled:60500, 541043835548082176\n",
      "#cwled:61000, 541046103760596993\n",
      "#cwled:61500, 541048271683473408\n",
      "#cwled:62000, 541050397243097090\n",
      "#cwled:62500, 541052420533399553\n",
      "#cwled:63000, 541054894535610368\n",
      "#cwled:63500, 541057196654473216\n",
      "#cwled:64000, 541059109785567232\n",
      "#cwled:64500, 541060947301769216\n",
      "#cwled:65000, 541062827671175169\n",
      "#cwled:65500, 541064696057835520\n",
      "#cwled:66000, 541066671260459009\n",
      "#cwled:66500, 541068219524476928\n",
      "#cwled:67000, 541069473323552768\n",
      "#cwled:67500, 541070579772555264\n",
      "#cwled:68000, 541071772586491904\n",
      "#cwled:68500, 541073077447442434\n",
      "#cwled:69000, 541074355883876352\n",
      "#cwled:69500, 541075839928901633\n",
      "#cwled:70000, 541077432833277953\n",
      "#cwled:70500, 541079293036462080\n",
      "#cwled:71000, 541080960997945345\n",
      "#cwled:71500, 541082554749575168\n",
      "#cwled:72000, 541083968804638720\n",
      "#cwled:72500, 541085719846866944\n",
      "#cwled:73000, 541087676204478465\n",
      "#cwled:73500, 541089481479032832\n",
      "#cwled:74000, 541091453544329216\n",
      "#cwled:74500, 541093525224693760\n",
      "#cwled:75000, 541095850663890944\n",
      "#######\n",
      "Number of tweet ids:  75300\n",
      "Number of crawled tweets:  75300\n"
     ]
    }
   ],
   "source": [
    "print(\".................Crawling......................\")\n",
    "# data_crawler(files[0], \"/home/nguyen/tweet_interpret_sum/datasets/unlabeled_data/2015_nepal_earthquake_en/crawled_data/150425104337_nepal_earthquake_20150425_vol-1.json.csv\")\n",
    "data_crawler(files[2], \"/home/nguyen/tweet_interpret_sum/datasets/unlabeled_data/2014_typhoon_hagupit_en/crawled_data/20141202-1140-PeterMosur-_20141205_vol-1.json.csv\")\n",
    "# data_crawler(files[1], \"/home/nguyen/tweet_interpret_sum/datasets/unlabeled_data/2014_pakistan_floods_en/crawled_data/2014-09-pakistan_floods_20140907_vol-1.json.csv\", start_tweet=last_tweet, \n",
    "#             error_file = \"/home/nguyen/tweet_interpret_sum/datasets/unlabeled_data/2014_pakistan_floods_en/crawled_data/2014-09-pakistan_floods_20140907_vol-1.error.txt\")"
   ]
  },
  {
   "cell_type": "code",
   "execution_count": null,
   "metadata": {},
   "outputs": [],
   "source": []
  }
 ],
 "metadata": {
  "kernelspec": {
   "display_name": "Python 3",
   "language": "python",
   "name": "python3"
  },
  "language_info": {
   "codemirror_mode": {
    "name": "ipython",
    "version": 3
   },
   "file_extension": ".py",
   "mimetype": "text/x-python",
   "name": "python",
   "nbconvert_exporter": "python",
   "pygments_lexer": "ipython3",
   "version": "3.7.3"
  }
 },
 "nbformat": 4,
 "nbformat_minor": 2
}
